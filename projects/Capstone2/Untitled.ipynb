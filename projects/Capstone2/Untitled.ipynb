{
 "cells": [
  {
   "cell_type": "markdown",
   "id": "f6d301bc",
   "metadata": {},
   "source": [
    "## Imports"
   ]
  },
  {
   "cell_type": "code",
   "execution_count": 1,
   "id": "a2066432",
   "metadata": {},
   "outputs": [],
   "source": [
    "import pandas as pd"
   ]
  },
  {
   "cell_type": "markdown",
   "id": "49c16e3a",
   "metadata": {},
   "source": [
    "## API"
   ]
  },
  {
   "cell_type": "code",
   "execution_count": 3,
   "id": "a06d6442",
   "metadata": {},
   "outputs": [],
   "source": [
    "# read api keys from file and assign variables\n",
    "df = pd.read_csv('api.csv')\n",
    "zwsid = df.loc[df['API'] == 'zillow']['KEY'].iloc[0]"
   ]
  },
  {
   "cell_type": "code",
   "execution_count": null,
   "id": "01413d1a",
   "metadata": {},
   "outputs": [],
   "source": [
    "import requests\n",
    "\n",
    "url = \"https://zillow-com1.p.rapidapi.com/property\"\n",
    "\n",
    "querystring = {\"zpid\":\"2080998890\"}\n",
    "\n",
    "headers = {\n",
    "    'x-rapidapi-host': \"zillow-com1.p.rapidapi.com\",\n",
    "    'x-rapidapi-key': \"1dcc316c40mshb76b2feb64ba341p1bd3a0jsnfca2ba8f2d29\"\n",
    "    }\n",
    "\n",
    "response = requests.request(\"GET\", url, headers=headers, params=querystring)\n",
    "\n",
    "print(response.text)"
   ]
  }
 ],
 "metadata": {
  "kernelspec": {
   "display_name": "Python 3",
   "language": "python",
   "name": "python3"
  },
  "language_info": {
   "codemirror_mode": {
    "name": "ipython",
    "version": 3
   },
   "file_extension": ".py",
   "mimetype": "text/x-python",
   "name": "python",
   "nbconvert_exporter": "python",
   "pygments_lexer": "ipython3",
   "version": "3.8.8"
  }
 },
 "nbformat": 4,
 "nbformat_minor": 5
}
