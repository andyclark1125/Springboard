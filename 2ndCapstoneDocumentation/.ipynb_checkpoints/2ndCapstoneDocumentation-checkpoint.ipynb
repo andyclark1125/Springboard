{
 "cells": [
  {
   "cell_type": "markdown",
   "id": "236e7994",
   "metadata": {},
   "source": [
    "# Final Report Predicting 12 Month Delaware Basin Oil Cum\n",
    "### Capstone Documentation Project Two  Andy Clark\n",
    "\n",
    "# Problem Statement:\n",
    "The business problem addressed here is to predict the 12 month oil cum for horizontal wells drilled in the Delaware Basin located in Texas and New Mexico.  The economics of drilling new wells relies heavliy on the well performance to pay for the signicant capital investment in drilling the well.  The 12 month oil cum is a good predictor of the estimated overall oil recovery over many years and the expected return on investment.  Predicting the 12 month cum cum oil can help optimize a companies drilling program by drilling the most economic wells.\n",
    "\n",
    "## 2. Data Wrangling:\n",
    "I downloaded the data from Enervus which has many features, many will not make sense to correlate to oil production.  The first step in my modelling will be to remove many features with no expected impact on oil production.  The initial dataset contained 14,909 rows and 364 columns. I also removed rows with less than 4500' of lateral length.  To remove any odd data entries I also removed rows with very high or very low gal/ft or lbs/ft on the completion intensity parameters.  I also only kept one distance feature since many of these features are redundant on calcluting well spacing.  In the Enverus data set, if wells do not have a neighbor well within 2600', there is no value entered.  As a result I filled in spacing features with 2600' if the spacing feature was blank. My final data set has 7177 rows and 26 columns.   \n",
    "\n",
    "## 3. Exploratory Data Analysis \n",
    "\n",
    "There are many features in the data set but I have trimmed them down to the features that should have an impact on 12 month cum oil.  I looked at correlations between the features and 12 month cum oil and no specific feature besided lateral lenght had that much of a correlation to 12 month cum oil.  "
   ]
  },
  {
   "cell_type": "code",
   "execution_count": 86,
   "id": "d7f2192c",
   "metadata": {},
   "outputs": [],
   "source": [
    "import os\n",
    "import math \n",
    "import numpy as np\n",
    "import pandas as pd\n",
    "import matplotlib.pyplot as plt\n",
    "import seaborn as sns"
   ]
  },
  {
   "cell_type": "code",
   "execution_count": 87,
   "id": "bf2ddcfe",
   "metadata": {},
   "outputs": [
    {
     "name": "stderr",
     "output_type": "stream",
     "text": [
      "C:\\Users\\asclark\\Anaconda3\\lib\\site-packages\\IPython\\core\\interactiveshell.py:3165: DtypeWarning: Columns (49,54) have mixed types.Specify dtype option on import or set low_memory=False.\n",
      "  has_raised = await self.run_ast_nodes(code_ast.body, cell_name,\n"
     ]
    }
   ],
   "source": [
    "df = pd.read_csv('CompletionStudy_4_26_2022.csv')"
   ]
  },
  {
   "cell_type": "code",
   "execution_count": 88,
   "id": "265ff8d4",
   "metadata": {},
   "outputs": [],
   "source": [
    "features_y = ['ENVInterval', 'TVD_FT','LateralLength_FT', 'ProppantIntensity_LBSPerFT','FluidIntensity_BBLPerFT','First12MonthOil_BBL', 'Closest3DDistAtDrillTimeAnyZone_FT',\n",
    " 'Closest3DDistAtDrillTimeSameZone_FT']"
   ]
  },
  {
   "cell_type": "code",
   "execution_count": 89,
   "id": "fd523152",
   "metadata": {},
   "outputs": [],
   "source": [
    "df = df[features_y]"
   ]
  },
  {
   "cell_type": "code",
   "execution_count": 90,
   "id": "5dfafe77",
   "metadata": {},
   "outputs": [],
   "source": [
    "# Filter all rows with 0 12 month cum oil\n",
    "df.drop(df[df['First12MonthOil_BBL'] < 1000].index, inplace = True)"
   ]
  },
  {
   "cell_type": "code",
   "execution_count": 91,
   "id": "f3e17d2d",
   "metadata": {},
   "outputs": [
    {
     "data": {
      "text/plain": [
       "(14807, 8)"
      ]
     },
     "execution_count": 91,
     "metadata": {},
     "output_type": "execute_result"
    }
   ],
   "source": [
    "df.shape"
   ]
  },
  {
   "cell_type": "code",
   "execution_count": 92,
   "id": "83523cce",
   "metadata": {},
   "outputs": [],
   "source": [
    "# Filter all rows with low lateral length\n",
    "df.drop(df[df['LateralLength_FT'] < 4500].index, inplace = True)"
   ]
  },
  {
   "cell_type": "code",
   "execution_count": 93,
   "id": "f0c18777",
   "metadata": {},
   "outputs": [
    {
     "data": {
      "text/plain": [
       "Index(['ENVInterval', 'TVD_FT', 'LateralLength_FT',\n",
       "       'ProppantIntensity_LBSPerFT', 'FluidIntensity_BBLPerFT',\n",
       "       'First12MonthOil_BBL', 'Closest3DDistAtDrillTimeAnyZone_FT',\n",
       "       'Closest3DDistAtDrillTimeSameZone_FT'],\n",
       "      dtype='object')"
      ]
     },
     "execution_count": 93,
     "metadata": {},
     "output_type": "execute_result"
    }
   ],
   "source": [
    "df.columns"
   ]
  },
  {
   "cell_type": "code",
   "execution_count": 94,
   "id": "db7a61d7",
   "metadata": {},
   "outputs": [],
   "source": [
    "# Filter all rows with low sand and water\n",
    "df.drop(df[df['ProppantIntensity_LBSPerFT'] < 1000].index, inplace = True)\n",
    "df.drop(df[df['FluidIntensity_BBLPerFT'] < 0.5].index, inplace = True)"
   ]
  },
  {
   "cell_type": "code",
   "execution_count": 95,
   "id": "c8b47f88",
   "metadata": {},
   "outputs": [],
   "source": [
    "# Filter all rows with too high sand and water\n",
    "df.drop(df[df['ProppantIntensity_LBSPerFT'] > 5000].index, inplace = True)\n",
    "df.drop(df[df['FluidIntensity_BBLPerFT'] > 100].index, inplace = True)"
   ]
  },
  {
   "cell_type": "code",
   "execution_count": 96,
   "id": "c24f1511",
   "metadata": {},
   "outputs": [
    {
     "data": {
      "text/plain": [
       "array(['WOLFCAMP A LOWER', 'DELAWARE VERTICAL', 'WOLFCAMP B LOWER',\n",
       "       'WOLFCAMP B UPPER', '2ND BONE SPRING', 'WOLFCAMP XY',\n",
       "       'WOLFCAMP A UPPER', '3RD BONE SPRING SAND', '2ND BONE SPRING SAND',\n",
       "       '3RD BONE SPRING', 'WOLFCAMP C', 'LOWER AVALON', 'MIDDLE AVALON',\n",
       "       nan, 'LOWER PENNSYLVANIAN AND MISSISSIPPIAN', 'WOODFORD AND BELOW',\n",
       "       'WOLFCAMP D', 'UPPER AVALON', '1ST BONE SPRING',\n",
       "       'ABOVE UPPER AVALON'], dtype=object)"
      ]
     },
     "execution_count": 96,
     "metadata": {},
     "output_type": "execute_result"
    }
   ],
   "source": [
    "# Filter all rows with out ENV Target\n",
    "df.ENVInterval.unique()"
   ]
  },
  {
   "cell_type": "code",
   "execution_count": 97,
   "id": "ab71c720",
   "metadata": {},
   "outputs": [],
   "source": [
    "interval_to_drop =['DELAWARE VERTICAL', 'LOWER AVALON', 'MIDDLE AVALON',\n",
    "        'LOWER PENNSYLVANIAN AND MISSISSIPPIAN', 'WOODFORD AND BELOW',\n",
    "       'WOLFCAMP D', 'UPPER AVALON', 'nan']"
   ]
  },
  {
   "cell_type": "code",
   "execution_count": 98,
   "id": "5b4ac73c",
   "metadata": {},
   "outputs": [],
   "source": [
    "df = df[~df['ENVInterval'].isin(interval_to_drop)]"
   ]
  },
  {
   "cell_type": "code",
   "execution_count": 99,
   "id": "9aae07a8",
   "metadata": {},
   "outputs": [
    {
     "data": {
      "text/plain": [
       "(10411, 8)"
      ]
     },
     "execution_count": 99,
     "metadata": {},
     "output_type": "execute_result"
    }
   ],
   "source": [
    "df.shape"
   ]
  },
  {
   "cell_type": "code",
   "execution_count": 100,
   "id": "df860c9c",
   "metadata": {
    "scrolled": false
   },
   "outputs": [
    {
     "name": "stdout",
     "output_type": "stream",
     "text": [
      "<class 'pandas.core.frame.DataFrame'>\n",
      "Int64Index: 7209 entries, 1 to 14908\n",
      "Data columns (total 8 columns):\n",
      " #   Column                               Non-Null Count  Dtype  \n",
      "---  ------                               --------------  -----  \n",
      " 0   ENVInterval                          7196 non-null   object \n",
      " 1   TVD_FT                               7209 non-null   float64\n",
      " 2   LateralLength_FT                     7209 non-null   float64\n",
      " 3   ProppantIntensity_LBSPerFT           7209 non-null   float64\n",
      " 4   FluidIntensity_BBLPerFT              7209 non-null   float64\n",
      " 5   First12MonthOil_BBL                  7209 non-null   float64\n",
      " 6   Closest3DDistAtDrillTimeAnyZone_FT   6155 non-null   float64\n",
      " 7   Closest3DDistAtDrillTimeSameZone_FT  4512 non-null   float64\n",
      "dtypes: float64(7), object(1)\n",
      "memory usage: 506.9+ KB\n"
     ]
    }
   ],
   "source": [
    "df=df.dropna(subset=['First12MonthOil_BBL', 'LateralLength_FT','ProppantIntensity_LBSPerFT','FluidIntensity_BBLPerFT'])\n",
    "df.info()"
   ]
  },
  {
   "cell_type": "code",
   "execution_count": 101,
   "id": "09ad6652",
   "metadata": {
    "scrolled": true
   },
   "outputs": [],
   "source": [
    "df['Closest3DDistAtDrillTimeAnyZone_FT'].fillna(2600, inplace=True)\n",
    "df['Closest3DDistAtDrillTimeSameZone_FT'].fillna(2600, inplace=True)"
   ]
  },
  {
   "cell_type": "markdown",
   "id": "e754ba30",
   "metadata": {},
   "source": [
    "# Plot up histograms of features"
   ]
  },
  {
   "cell_type": "code",
   "execution_count": 102,
   "id": "470590f3",
   "metadata": {
    "scrolled": true
   },
   "outputs": [
    {
     "data": {
      "text/plain": [
       "array([[<AxesSubplot:title={'center':'TVD_FT'}>,\n",
       "        <AxesSubplot:title={'center':'LateralLength_FT'}>,\n",
       "        <AxesSubplot:title={'center':'ProppantIntensity_LBSPerFT'}>],\n",
       "       [<AxesSubplot:title={'center':'FluidIntensity_BBLPerFT'}>,\n",
       "        <AxesSubplot:title={'center':'First12MonthOil_BBL'}>,\n",
       "        <AxesSubplot:title={'center':'Closest3DDistAtDrillTimeAnyZone_FT'}>],\n",
       "       [<AxesSubplot:title={'center':'Closest3DDistAtDrillTimeSameZone_FT'}>,\n",
       "        <AxesSubplot:>, <AxesSubplot:>]], dtype=object)"
      ]
     },
     "execution_count": 102,
     "metadata": {},
     "output_type": "execute_result"
    },
    {
     "data": {
      "image/png": "[encoded data removed]",
      "text/plain": [
       "<Figure size 1080x1080 with 9 Axes>"
      ]
     },
     "metadata": {
      "needs_background": "light"
     },
     "output_type": "display_data"
    }
   ],
   "source": [
    "df.hist(figsize = (15,15))"
   ]
  },
  {
   "cell_type": "code",
   "execution_count": 103,
   "id": "339164c6",
   "metadata": {},
   "outputs": [
    {
     "name": "stdout",
     "output_type": "stream",
     "text": [
      "Correlation between various features\n"
     ]
    },
    {
     "data": {
      "image/png": "[encoded data removed]",
      "text/plain": [
       "<Figure size 864x720 with 2 Axes>"
      ]
     },
     "metadata": {
      "needs_background": "light"
     },
     "output_type": "display_data"
    }
   ],
   "source": [
    "plt.figure(figsize=(12,10))\n",
    "print('Correlation between various features')\n",
    "p=sns.heatmap(df.corr(), annot=True,cmap ='Blues')"
   ]
  },
  {
   "cell_type": "markdown",
   "id": "54457b79",
   "metadata": {},
   "source": [
    "## In the correlation matrix above, none of the features are highly correlated to 12 month cum oil other than the lateral length.  "
   ]
  },
  {
   "cell_type": "markdown",
   "id": "8bb85d0b",
   "metadata": {},
   "source": [
    "# Modelling"
   ]
  },
  {
   "cell_type": "markdown",
   "id": "8084b6b4",
   "metadata": {},
   "source": [
    "## Create Dummy Variables for Categorical Features"
   ]
  },
  {
   "cell_type": "code",
   "execution_count": 104,
   "id": "6dfd8842",
   "metadata": {},
   "outputs": [
    {
     "data": {
      "text/html": [
       "<div>\n",
       "<style scoped>\n",
       "    .dataframe tbody tr th:only-of-type {\n",
       "        vertical-align: middle;\n",
       "    }\n",
       "\n",
       "    .dataframe tbody tr th {\n",
       "        vertical-align: top;\n",
       "    }\n",
       "\n",
       "    .dataframe thead th {\n",
       "        text-align: right;\n",
       "    }\n",
       "</style>\n",
       "<table border=\"1\" class=\"dataframe\">\n",
       "  <thead>\n",
       "    <tr style=\"text-align: right;\">\n",
       "      <th></th>\n",
       "      <th>TVD_FT</th>\n",
       "      <th>LateralLength_FT</th>\n",
       "      <th>ProppantIntensity_LBSPerFT</th>\n",
       "      <th>FluidIntensity_BBLPerFT</th>\n",
       "      <th>First12MonthOil_BBL</th>\n",
       "      <th>Closest3DDistAtDrillTimeAnyZone_FT</th>\n",
       "      <th>Closest3DDistAtDrillTimeSameZone_FT</th>\n",
       "      <th>ENVInterval_2ND BONE SPRING</th>\n",
       "      <th>ENVInterval_2ND BONE SPRING SAND</th>\n",
       "      <th>ENVInterval_3RD BONE SPRING</th>\n",
       "      <th>ENVInterval_3RD BONE SPRING SAND</th>\n",
       "      <th>ENVInterval_ABOVE UPPER AVALON</th>\n",
       "      <th>ENVInterval_WOLFCAMP A LOWER</th>\n",
       "      <th>ENVInterval_WOLFCAMP A UPPER</th>\n",
       "      <th>ENVInterval_WOLFCAMP B LOWER</th>\n",
       "      <th>ENVInterval_WOLFCAMP B UPPER</th>\n",
       "      <th>ENVInterval_WOLFCAMP C</th>\n",
       "      <th>ENVInterval_WOLFCAMP XY</th>\n",
       "    </tr>\n",
       "  </thead>\n",
       "  <tbody>\n",
       "    <tr>\n",
       "      <th>1</th>\n",
       "      <td>9053.08</td>\n",
       "      <td>7616.0</td>\n",
       "      <td>1657.5867</td>\n",
       "      <td>39.176280</td>\n",
       "      <td>238979.00</td>\n",
       "      <td>2600.000000</td>\n",
       "      <td>2600.000000</td>\n",
       "      <td>0</td>\n",
       "      <td>0</td>\n",
       "      <td>0</td>\n",
       "      <td>0</td>\n",
       "      <td>0</td>\n",
       "      <td>1</td>\n",
       "      <td>0</td>\n",
       "      <td>0</td>\n",
       "      <td>0</td>\n",
       "      <td>0</td>\n",
       "      <td>0</td>\n",
       "    </tr>\n",
       "    <tr>\n",
       "      <th>6</th>\n",
       "      <td>9946.45</td>\n",
       "      <td>10208.0</td>\n",
       "      <td>2252.8445</td>\n",
       "      <td>46.909500</td>\n",
       "      <td>124593.24</td>\n",
       "      <td>703.979475</td>\n",
       "      <td>2600.000000</td>\n",
       "      <td>0</td>\n",
       "      <td>0</td>\n",
       "      <td>0</td>\n",
       "      <td>0</td>\n",
       "      <td>0</td>\n",
       "      <td>0</td>\n",
       "      <td>0</td>\n",
       "      <td>1</td>\n",
       "      <td>0</td>\n",
       "      <td>0</td>\n",
       "      <td>0</td>\n",
       "    </tr>\n",
       "    <tr>\n",
       "      <th>7</th>\n",
       "      <td>9810.81</td>\n",
       "      <td>5788.0</td>\n",
       "      <td>1095.4766</td>\n",
       "      <td>18.946959</td>\n",
       "      <td>22234.00</td>\n",
       "      <td>2600.000000</td>\n",
       "      <td>2600.000000</td>\n",
       "      <td>0</td>\n",
       "      <td>0</td>\n",
       "      <td>0</td>\n",
       "      <td>0</td>\n",
       "      <td>0</td>\n",
       "      <td>0</td>\n",
       "      <td>0</td>\n",
       "      <td>0</td>\n",
       "      <td>1</td>\n",
       "      <td>0</td>\n",
       "      <td>0</td>\n",
       "    </tr>\n",
       "    <tr>\n",
       "      <th>8</th>\n",
       "      <td>10373.73</td>\n",
       "      <td>4596.0</td>\n",
       "      <td>1308.0999</td>\n",
       "      <td>28.589070</td>\n",
       "      <td>103996.00</td>\n",
       "      <td>439.297497</td>\n",
       "      <td>645.799182</td>\n",
       "      <td>0</td>\n",
       "      <td>0</td>\n",
       "      <td>0</td>\n",
       "      <td>0</td>\n",
       "      <td>0</td>\n",
       "      <td>1</td>\n",
       "      <td>0</td>\n",
       "      <td>0</td>\n",
       "      <td>0</td>\n",
       "      <td>0</td>\n",
       "      <td>0</td>\n",
       "    </tr>\n",
       "    <tr>\n",
       "      <th>9</th>\n",
       "      <td>10816.88</td>\n",
       "      <td>9419.0</td>\n",
       "      <td>1804.3873</td>\n",
       "      <td>38.427647</td>\n",
       "      <td>405154.20</td>\n",
       "      <td>2600.000000</td>\n",
       "      <td>2600.000000</td>\n",
       "      <td>0</td>\n",
       "      <td>0</td>\n",
       "      <td>0</td>\n",
       "      <td>0</td>\n",
       "      <td>0</td>\n",
       "      <td>1</td>\n",
       "      <td>0</td>\n",
       "      <td>0</td>\n",
       "      <td>0</td>\n",
       "      <td>0</td>\n",
       "      <td>0</td>\n",
       "    </tr>\n",
       "    <tr>\n",
       "      <th>...</th>\n",
       "      <td>...</td>\n",
       "      <td>...</td>\n",
       "      <td>...</td>\n",
       "      <td>...</td>\n",
       "      <td>...</td>\n",
       "      <td>...</td>\n",
       "      <td>...</td>\n",
       "      <td>...</td>\n",
       "      <td>...</td>\n",
       "      <td>...</td>\n",
       "      <td>...</td>\n",
       "      <td>...</td>\n",
       "      <td>...</td>\n",
       "      <td>...</td>\n",
       "      <td>...</td>\n",
       "      <td>...</td>\n",
       "      <td>...</td>\n",
       "      <td>...</td>\n",
       "    </tr>\n",
       "    <tr>\n",
       "      <th>14894</th>\n",
       "      <td>11228.50</td>\n",
       "      <td>9443.0</td>\n",
       "      <td>2554.5007</td>\n",
       "      <td>50.208090</td>\n",
       "      <td>215886.00</td>\n",
       "      <td>611.114872</td>\n",
       "      <td>2600.000000</td>\n",
       "      <td>0</td>\n",
       "      <td>0</td>\n",
       "      <td>0</td>\n",
       "      <td>0</td>\n",
       "      <td>0</td>\n",
       "      <td>0</td>\n",
       "      <td>0</td>\n",
       "      <td>1</td>\n",
       "      <td>0</td>\n",
       "      <td>0</td>\n",
       "      <td>0</td>\n",
       "    </tr>\n",
       "    <tr>\n",
       "      <th>14899</th>\n",
       "      <td>9275.01</td>\n",
       "      <td>10189.0</td>\n",
       "      <td>2510.3274</td>\n",
       "      <td>42.452500</td>\n",
       "      <td>384439.00</td>\n",
       "      <td>892.200448</td>\n",
       "      <td>2600.000000</td>\n",
       "      <td>0</td>\n",
       "      <td>1</td>\n",
       "      <td>0</td>\n",
       "      <td>0</td>\n",
       "      <td>0</td>\n",
       "      <td>0</td>\n",
       "      <td>0</td>\n",
       "      <td>0</td>\n",
       "      <td>0</td>\n",
       "      <td>0</td>\n",
       "      <td>0</td>\n",
       "    </tr>\n",
       "    <tr>\n",
       "      <th>14900</th>\n",
       "      <td>9224.07</td>\n",
       "      <td>10410.0</td>\n",
       "      <td>2492.0764</td>\n",
       "      <td>58.201546</td>\n",
       "      <td>151880.00</td>\n",
       "      <td>1246.876694</td>\n",
       "      <td>2600.000000</td>\n",
       "      <td>0</td>\n",
       "      <td>1</td>\n",
       "      <td>0</td>\n",
       "      <td>0</td>\n",
       "      <td>0</td>\n",
       "      <td>0</td>\n",
       "      <td>0</td>\n",
       "      <td>0</td>\n",
       "      <td>0</td>\n",
       "      <td>0</td>\n",
       "      <td>0</td>\n",
       "    </tr>\n",
       "    <tr>\n",
       "      <th>14904</th>\n",
       "      <td>10487.98</td>\n",
       "      <td>9330.0</td>\n",
       "      <td>1966.4954</td>\n",
       "      <td>54.725260</td>\n",
       "      <td>283910.00</td>\n",
       "      <td>2600.000000</td>\n",
       "      <td>2600.000000</td>\n",
       "      <td>0</td>\n",
       "      <td>0</td>\n",
       "      <td>0</td>\n",
       "      <td>0</td>\n",
       "      <td>0</td>\n",
       "      <td>1</td>\n",
       "      <td>0</td>\n",
       "      <td>0</td>\n",
       "      <td>0</td>\n",
       "      <td>0</td>\n",
       "      <td>0</td>\n",
       "    </tr>\n",
       "    <tr>\n",
       "      <th>14908</th>\n",
       "      <td>8460.77</td>\n",
       "      <td>10375.0</td>\n",
       "      <td>1602.8457</td>\n",
       "      <td>42.979424</td>\n",
       "      <td>265725.00</td>\n",
       "      <td>2600.000000</td>\n",
       "      <td>2600.000000</td>\n",
       "      <td>0</td>\n",
       "      <td>0</td>\n",
       "      <td>0</td>\n",
       "      <td>0</td>\n",
       "      <td>0</td>\n",
       "      <td>0</td>\n",
       "      <td>1</td>\n",
       "      <td>0</td>\n",
       "      <td>0</td>\n",
       "      <td>0</td>\n",
       "      <td>0</td>\n",
       "    </tr>\n",
       "  </tbody>\n",
       "</table>\n",
       "<p>7209 rows × 18 columns</p>\n",
       "</div>"
      ],
      "text/plain": [
       "         TVD_FT  LateralLength_FT  ProppantIntensity_LBSPerFT  \\\n",
       "1       9053.08            7616.0                   1657.5867   \n",
       "6       9946.45           10208.0                   2252.8445   \n",
       "7       9810.81            5788.0                   1095.4766   \n",
       "8      10373.73            4596.0                   1308.0999   \n",
       "9      10816.88            9419.0                   1804.3873   \n",
       "...         ...               ...                         ...   \n",
       "14894  11228.50            9443.0                   2554.5007   \n",
       "14899   9275.01           10189.0                   2510.3274   \n",
       "14900   9224.07           10410.0                   2492.0764   \n",
       "14904  10487.98            9330.0                   1966.4954   \n",
       "14908   8460.77           10375.0                   1602.8457   \n",
       "\n",
       "       FluidIntensity_BBLPerFT  First12MonthOil_BBL  \\\n",
       "1                    39.176280            238979.00   \n",
       "6                    46.909500            124593.24   \n",
       "7                    18.946959             22234.00   \n",
       "8                    28.589070            103996.00   \n",
       "9                    38.427647            405154.20   \n",
       "...                        ...                  ...   \n",
       "14894                50.208090            215886.00   \n",
       "14899                42.452500            384439.00   \n",
       "14900                58.201546            151880.00   \n",
       "14904                54.725260            283910.00   \n",
       "14908                42.979424            265725.00   \n",
       "\n",
       "       Closest3DDistAtDrillTimeAnyZone_FT  \\\n",
       "1                             2600.000000   \n",
       "6                              703.979475   \n",
       "7                             2600.000000   \n",
       "8                              439.297497   \n",
       "9                             2600.000000   \n",
       "...                                   ...   \n",
       "14894                          611.114872   \n",
       "14899                          892.200448   \n",
       "14900                         1246.876694   \n",
       "14904                         2600.000000   \n",
       "14908                         2600.000000   \n",
       "\n",
       "       Closest3DDistAtDrillTimeSameZone_FT  ENVInterval_2ND BONE SPRING  \\\n",
       "1                              2600.000000                            0   \n",
       "6                              2600.000000                            0   \n",
       "7                              2600.000000                            0   \n",
       "8                               645.799182                            0   \n",
       "9                              2600.000000                            0   \n",
       "...                                    ...                          ...   \n",
       "14894                          2600.000000                            0   \n",
       "14899                          2600.000000                            0   \n",
       "14900                          2600.000000                            0   \n",
       "14904                          2600.000000                            0   \n",
       "14908                          2600.000000                            0   \n",
       "\n",
       "       ENVInterval_2ND BONE SPRING SAND  ENVInterval_3RD BONE SPRING  \\\n",
       "1                                     0                            0   \n",
       "6                                     0                            0   \n",
       "7                                     0                            0   \n",
       "8                                     0                            0   \n",
       "9                                     0                            0   \n",
       "...                                 ...                          ...   \n",
       "14894                                 0                            0   \n",
       "14899                                 1                            0   \n",
       "14900                                 1                            0   \n",
       "14904                                 0                            0   \n",
       "14908                                 0                            0   \n",
       "\n",
       "       ENVInterval_3RD BONE SPRING SAND  ENVInterval_ABOVE UPPER AVALON  \\\n",
       "1                                     0                               0   \n",
       "6                                     0                               0   \n",
       "7                                     0                               0   \n",
       "8                                     0                               0   \n",
       "9                                     0                               0   \n",
       "...                                 ...                             ...   \n",
       "14894                                 0                               0   \n",
       "14899                                 0                               0   \n",
       "14900                                 0                               0   \n",
       "14904                                 0                               0   \n",
       "14908                                 0                               0   \n",
       "\n",
       "       ENVInterval_WOLFCAMP A LOWER  ENVInterval_WOLFCAMP A UPPER  \\\n",
       "1                                 1                             0   \n",
       "6                                 0                             0   \n",
       "7                                 0                             0   \n",
       "8                                 1                             0   \n",
       "9                                 1                             0   \n",
       "...                             ...                           ...   \n",
       "14894                             0                             0   \n",
       "14899                             0                             0   \n",
       "14900                             0                             0   \n",
       "14904                             1                             0   \n",
       "14908                             0                             1   \n",
       "\n",
       "       ENVInterval_WOLFCAMP B LOWER  ENVInterval_WOLFCAMP B UPPER  \\\n",
       "1                                 0                             0   \n",
       "6                                 1                             0   \n",
       "7                                 0                             1   \n",
       "8                                 0                             0   \n",
       "9                                 0                             0   \n",
       "...                             ...                           ...   \n",
       "14894                             1                             0   \n",
       "14899                             0                             0   \n",
       "14900                             0                             0   \n",
       "14904                             0                             0   \n",
       "14908                             0                             0   \n",
       "\n",
       "       ENVInterval_WOLFCAMP C  ENVInterval_WOLFCAMP XY  \n",
       "1                           0                        0  \n",
       "6                           0                        0  \n",
       "7                           0                        0  \n",
       "8                           0                        0  \n",
       "9                           0                        0  \n",
       "...                       ...                      ...  \n",
       "14894                       0                        0  \n",
       "14899                       0                        0  \n",
       "14900                       0                        0  \n",
       "14904                       0                        0  \n",
       "14908                       0                        0  \n",
       "\n",
       "[7209 rows x 18 columns]"
      ]
     },
     "execution_count": 104,
     "metadata": {},
     "output_type": "execute_result"
    }
   ],
   "source": [
    "df_dummys = pd.get_dummies(df, drop_first=True)\n",
    "df_dummys"
   ]
  },
  {
   "cell_type": "code",
   "execution_count": 105,
   "id": "fe56344e",
   "metadata": {},
   "outputs": [
    {
     "data": {
      "text/plain": [
       "Index(['TVD_FT', 'LateralLength_FT', 'ProppantIntensity_LBSPerFT',\n",
       "       'FluidIntensity_BBLPerFT', 'First12MonthOil_BBL',\n",
       "       'Closest3DDistAtDrillTimeAnyZone_FT',\n",
       "       'Closest3DDistAtDrillTimeSameZone_FT', 'ENVInterval_2ND BONE SPRING',\n",
       "       'ENVInterval_2ND BONE SPRING SAND', 'ENVInterval_3RD BONE SPRING',\n",
       "       'ENVInterval_3RD BONE SPRING SAND', 'ENVInterval_ABOVE UPPER AVALON',\n",
       "       'ENVInterval_WOLFCAMP A LOWER', 'ENVInterval_WOLFCAMP A UPPER',\n",
       "       'ENVInterval_WOLFCAMP B LOWER', 'ENVInterval_WOLFCAMP B UPPER',\n",
       "       'ENVInterval_WOLFCAMP C', 'ENVInterval_WOLFCAMP XY'],\n",
       "      dtype='object')"
      ]
     },
     "execution_count": 105,
     "metadata": {},
     "output_type": "execute_result"
    }
   ],
   "source": [
    "df_dummys.columns"
   ]
  },
  {
   "cell_type": "code",
   "execution_count": 106,
   "id": "9ab75986",
   "metadata": {},
   "outputs": [],
   "source": [
    "features = ['TVD_FT', 'LateralLength_FT', 'ProppantIntensity_LBSPerFT',\n",
    "       'FluidIntensity_BBLPerFT', 'Closest3DDistAtDrillTimeAnyZone_FT',\n",
    "       'Closest3DDistAtDrillTimeSameZone_FT', 'ENVInterval_2ND BONE SPRING',\n",
    "       'ENVInterval_2ND BONE SPRING SAND', 'ENVInterval_3RD BONE SPRING',\n",
    "       'ENVInterval_3RD BONE SPRING SAND', 'ENVInterval_ABOVE UPPER AVALON',\n",
    "       'ENVInterval_WOLFCAMP A LOWER', 'ENVInterval_WOLFCAMP A UPPER',\n",
    "       'ENVInterval_WOLFCAMP B LOWER', 'ENVInterval_WOLFCAMP B UPPER',\n",
    "       'ENVInterval_WOLFCAMP C', 'ENVInterval_WOLFCAMP XY']"
   ]
  },
  {
   "cell_type": "code",
   "execution_count": 107,
   "id": "2ba20645",
   "metadata": {},
   "outputs": [],
   "source": [
    "# Now create the features X and y set\n",
    "y = df.First12MonthOil_BBL\n",
    "X = df_dummys[features]"
   ]
  },
  {
   "cell_type": "code",
   "execution_count": 108,
   "id": "00ed6e98",
   "metadata": {
    "scrolled": true
   },
   "outputs": [
    {
     "data": {
      "text/plain": [
       "1        238979.00\n",
       "6        124593.24\n",
       "7         22234.00\n",
       "8        103996.00\n",
       "9        405154.20\n",
       "           ...    \n",
       "14894    215886.00\n",
       "14899    384439.00\n",
       "14900    151880.00\n",
       "14904    283910.00\n",
       "14908    265725.00\n",
       "Name: First12MonthOil_BBL, Length: 7209, dtype: float64"
      ]
     },
     "execution_count": 108,
     "metadata": {},
     "output_type": "execute_result"
    }
   ],
   "source": [
    "y"
   ]
  },
  {
   "cell_type": "code",
   "execution_count": 109,
   "id": "96ef6fdf",
   "metadata": {},
   "outputs": [
    {
     "data": {
      "text/html": [
       "<div>\n",
       "<style scoped>\n",
       "    .dataframe tbody tr th:only-of-type {\n",
       "        vertical-align: middle;\n",
       "    }\n",
       "\n",
       "    .dataframe tbody tr th {\n",
       "        vertical-align: top;\n",
       "    }\n",
       "\n",
       "    .dataframe thead th {\n",
       "        text-align: right;\n",
       "    }\n",
       "</style>\n",
       "<table border=\"1\" class=\"dataframe\">\n",
       "  <thead>\n",
       "    <tr style=\"text-align: right;\">\n",
       "      <th></th>\n",
       "      <th>TVD_FT</th>\n",
       "      <th>LateralLength_FT</th>\n",
       "      <th>ProppantIntensity_LBSPerFT</th>\n",
       "      <th>FluidIntensity_BBLPerFT</th>\n",
       "      <th>Closest3DDistAtDrillTimeAnyZone_FT</th>\n",
       "      <th>Closest3DDistAtDrillTimeSameZone_FT</th>\n",
       "      <th>ENVInterval_2ND BONE SPRING</th>\n",
       "      <th>ENVInterval_2ND BONE SPRING SAND</th>\n",
       "      <th>ENVInterval_3RD BONE SPRING</th>\n",
       "      <th>ENVInterval_3RD BONE SPRING SAND</th>\n",
       "      <th>ENVInterval_ABOVE UPPER AVALON</th>\n",
       "      <th>ENVInterval_WOLFCAMP A LOWER</th>\n",
       "      <th>ENVInterval_WOLFCAMP A UPPER</th>\n",
       "      <th>ENVInterval_WOLFCAMP B LOWER</th>\n",
       "      <th>ENVInterval_WOLFCAMP B UPPER</th>\n",
       "      <th>ENVInterval_WOLFCAMP C</th>\n",
       "      <th>ENVInterval_WOLFCAMP XY</th>\n",
       "    </tr>\n",
       "  </thead>\n",
       "  <tbody>\n",
       "    <tr>\n",
       "      <th>1</th>\n",
       "      <td>9053.08</td>\n",
       "      <td>7616.0</td>\n",
       "      <td>1657.5867</td>\n",
       "      <td>39.176280</td>\n",
       "      <td>2600.000000</td>\n",
       "      <td>2600.000000</td>\n",
       "      <td>0</td>\n",
       "      <td>0</td>\n",
       "      <td>0</td>\n",
       "      <td>0</td>\n",
       "      <td>0</td>\n",
       "      <td>1</td>\n",
       "      <td>0</td>\n",
       "      <td>0</td>\n",
       "      <td>0</td>\n",
       "      <td>0</td>\n",
       "      <td>0</td>\n",
       "    </tr>\n",
       "    <tr>\n",
       "      <th>6</th>\n",
       "      <td>9946.45</td>\n",
       "      <td>10208.0</td>\n",
       "      <td>2252.8445</td>\n",
       "      <td>46.909500</td>\n",
       "      <td>703.979475</td>\n",
       "      <td>2600.000000</td>\n",
       "      <td>0</td>\n",
       "      <td>0</td>\n",
       "      <td>0</td>\n",
       "      <td>0</td>\n",
       "      <td>0</td>\n",
       "      <td>0</td>\n",
       "      <td>0</td>\n",
       "      <td>1</td>\n",
       "      <td>0</td>\n",
       "      <td>0</td>\n",
       "      <td>0</td>\n",
       "    </tr>\n",
       "    <tr>\n",
       "      <th>7</th>\n",
       "      <td>9810.81</td>\n",
       "      <td>5788.0</td>\n",
       "      <td>1095.4766</td>\n",
       "      <td>18.946959</td>\n",
       "      <td>2600.000000</td>\n",
       "      <td>2600.000000</td>\n",
       "      <td>0</td>\n",
       "      <td>0</td>\n",
       "      <td>0</td>\n",
       "      <td>0</td>\n",
       "      <td>0</td>\n",
       "      <td>0</td>\n",
       "      <td>0</td>\n",
       "      <td>0</td>\n",
       "      <td>1</td>\n",
       "      <td>0</td>\n",
       "      <td>0</td>\n",
       "    </tr>\n",
       "    <tr>\n",
       "      <th>8</th>\n",
       "      <td>10373.73</td>\n",
       "      <td>4596.0</td>\n",
       "      <td>1308.0999</td>\n",
       "      <td>28.589070</td>\n",
       "      <td>439.297497</td>\n",
       "      <td>645.799182</td>\n",
       "      <td>0</td>\n",
       "      <td>0</td>\n",
       "      <td>0</td>\n",
       "      <td>0</td>\n",
       "      <td>0</td>\n",
       "      <td>1</td>\n",
       "      <td>0</td>\n",
       "      <td>0</td>\n",
       "      <td>0</td>\n",
       "      <td>0</td>\n",
       "      <td>0</td>\n",
       "    </tr>\n",
       "    <tr>\n",
       "      <th>9</th>\n",
       "      <td>10816.88</td>\n",
       "      <td>9419.0</td>\n",
       "      <td>1804.3873</td>\n",
       "      <td>38.427647</td>\n",
       "      <td>2600.000000</td>\n",
       "      <td>2600.000000</td>\n",
       "      <td>0</td>\n",
       "      <td>0</td>\n",
       "      <td>0</td>\n",
       "      <td>0</td>\n",
       "      <td>0</td>\n",
       "      <td>1</td>\n",
       "      <td>0</td>\n",
       "      <td>0</td>\n",
       "      <td>0</td>\n",
       "      <td>0</td>\n",
       "      <td>0</td>\n",
       "    </tr>\n",
       "    <tr>\n",
       "      <th>...</th>\n",
       "      <td>...</td>\n",
       "      <td>...</td>\n",
       "      <td>...</td>\n",
       "      <td>...</td>\n",
       "      <td>...</td>\n",
       "      <td>...</td>\n",
       "      <td>...</td>\n",
       "      <td>...</td>\n",
       "      <td>...</td>\n",
       "      <td>...</td>\n",
       "      <td>...</td>\n",
       "      <td>...</td>\n",
       "      <td>...</td>\n",
       "      <td>...</td>\n",
       "      <td>...</td>\n",
       "      <td>...</td>\n",
       "      <td>...</td>\n",
       "    </tr>\n",
       "    <tr>\n",
       "      <th>14894</th>\n",
       "      <td>11228.50</td>\n",
       "      <td>9443.0</td>\n",
       "      <td>2554.5007</td>\n",
       "      <td>50.208090</td>\n",
       "      <td>611.114872</td>\n",
       "      <td>2600.000000</td>\n",
       "      <td>0</td>\n",
       "      <td>0</td>\n",
       "      <td>0</td>\n",
       "      <td>0</td>\n",
       "      <td>0</td>\n",
       "      <td>0</td>\n",
       "      <td>0</td>\n",
       "      <td>1</td>\n",
       "      <td>0</td>\n",
       "      <td>0</td>\n",
       "      <td>0</td>\n",
       "    </tr>\n",
       "    <tr>\n",
       "      <th>14899</th>\n",
       "      <td>9275.01</td>\n",
       "      <td>10189.0</td>\n",
       "      <td>2510.3274</td>\n",
       "      <td>42.452500</td>\n",
       "      <td>892.200448</td>\n",
       "      <td>2600.000000</td>\n",
       "      <td>0</td>\n",
       "      <td>1</td>\n",
       "      <td>0</td>\n",
       "      <td>0</td>\n",
       "      <td>0</td>\n",
       "      <td>0</td>\n",
       "      <td>0</td>\n",
       "      <td>0</td>\n",
       "      <td>0</td>\n",
       "      <td>0</td>\n",
       "      <td>0</td>\n",
       "    </tr>\n",
       "    <tr>\n",
       "      <th>14900</th>\n",
       "      <td>9224.07</td>\n",
       "      <td>10410.0</td>\n",
       "      <td>2492.0764</td>\n",
       "      <td>58.201546</td>\n",
       "      <td>1246.876694</td>\n",
       "      <td>2600.000000</td>\n",
       "      <td>0</td>\n",
       "      <td>1</td>\n",
       "      <td>0</td>\n",
       "      <td>0</td>\n",
       "      <td>0</td>\n",
       "      <td>0</td>\n",
       "      <td>0</td>\n",
       "      <td>0</td>\n",
       "      <td>0</td>\n",
       "      <td>0</td>\n",
       "      <td>0</td>\n",
       "    </tr>\n",
       "    <tr>\n",
       "      <th>14904</th>\n",
       "      <td>10487.98</td>\n",
       "      <td>9330.0</td>\n",
       "      <td>1966.4954</td>\n",
       "      <td>54.725260</td>\n",
       "      <td>2600.000000</td>\n",
       "      <td>2600.000000</td>\n",
       "      <td>0</td>\n",
       "      <td>0</td>\n",
       "      <td>0</td>\n",
       "      <td>0</td>\n",
       "      <td>0</td>\n",
       "      <td>1</td>\n",
       "      <td>0</td>\n",
       "      <td>0</td>\n",
       "      <td>0</td>\n",
       "      <td>0</td>\n",
       "      <td>0</td>\n",
       "    </tr>\n",
       "    <tr>\n",
       "      <th>14908</th>\n",
       "      <td>8460.77</td>\n",
       "      <td>10375.0</td>\n",
       "      <td>1602.8457</td>\n",
       "      <td>42.979424</td>\n",
       "      <td>2600.000000</td>\n",
       "      <td>2600.000000</td>\n",
       "      <td>0</td>\n",
       "      <td>0</td>\n",
       "      <td>0</td>\n",
       "      <td>0</td>\n",
       "      <td>0</td>\n",
       "      <td>0</td>\n",
       "      <td>1</td>\n",
       "      <td>0</td>\n",
       "      <td>0</td>\n",
       "      <td>0</td>\n",
       "      <td>0</td>\n",
       "    </tr>\n",
       "  </tbody>\n",
       "</table>\n",
       "<p>7209 rows × 17 columns</p>\n",
       "</div>"
      ],
      "text/plain": [
       "         TVD_FT  LateralLength_FT  ProppantIntensity_LBSPerFT  \\\n",
       "1       9053.08            7616.0                   1657.5867   \n",
       "6       9946.45           10208.0                   2252.8445   \n",
       "7       9810.81            5788.0                   1095.4766   \n",
       "8      10373.73            4596.0                   1308.0999   \n",
       "9      10816.88            9419.0                   1804.3873   \n",
       "...         ...               ...                         ...   \n",
       "14894  11228.50            9443.0                   2554.5007   \n",
       "14899   9275.01           10189.0                   2510.3274   \n",
       "14900   9224.07           10410.0                   2492.0764   \n",
       "14904  10487.98            9330.0                   1966.4954   \n",
       "14908   8460.77           10375.0                   1602.8457   \n",
       "\n",
       "       FluidIntensity_BBLPerFT  Closest3DDistAtDrillTimeAnyZone_FT  \\\n",
       "1                    39.176280                         2600.000000   \n",
       "6                    46.909500                          703.979475   \n",
       "7                    18.946959                         2600.000000   \n",
       "8                    28.589070                          439.297497   \n",
       "9                    38.427647                         2600.000000   \n",
       "...                        ...                                 ...   \n",
       "14894                50.208090                          611.114872   \n",
       "14899                42.452500                          892.200448   \n",
       "14900                58.201546                         1246.876694   \n",
       "14904                54.725260                         2600.000000   \n",
       "14908                42.979424                         2600.000000   \n",
       "\n",
       "       Closest3DDistAtDrillTimeSameZone_FT  ENVInterval_2ND BONE SPRING  \\\n",
       "1                              2600.000000                            0   \n",
       "6                              2600.000000                            0   \n",
       "7                              2600.000000                            0   \n",
       "8                               645.799182                            0   \n",
       "9                              2600.000000                            0   \n",
       "...                                    ...                          ...   \n",
       "14894                          2600.000000                            0   \n",
       "14899                          2600.000000                            0   \n",
       "14900                          2600.000000                            0   \n",
       "14904                          2600.000000                            0   \n",
       "14908                          2600.000000                            0   \n",
       "\n",
       "       ENVInterval_2ND BONE SPRING SAND  ENVInterval_3RD BONE SPRING  \\\n",
       "1                                     0                            0   \n",
       "6                                     0                            0   \n",
       "7                                     0                            0   \n",
       "8                                     0                            0   \n",
       "9                                     0                            0   \n",
       "...                                 ...                          ...   \n",
       "14894                                 0                            0   \n",
       "14899                                 1                            0   \n",
       "14900                                 1                            0   \n",
       "14904                                 0                            0   \n",
       "14908                                 0                            0   \n",
       "\n",
       "       ENVInterval_3RD BONE SPRING SAND  ENVInterval_ABOVE UPPER AVALON  \\\n",
       "1                                     0                               0   \n",
       "6                                     0                               0   \n",
       "7                                     0                               0   \n",
       "8                                     0                               0   \n",
       "9                                     0                               0   \n",
       "...                                 ...                             ...   \n",
       "14894                                 0                               0   \n",
       "14899                                 0                               0   \n",
       "14900                                 0                               0   \n",
       "14904                                 0                               0   \n",
       "14908                                 0                               0   \n",
       "\n",
       "       ENVInterval_WOLFCAMP A LOWER  ENVInterval_WOLFCAMP A UPPER  \\\n",
       "1                                 1                             0   \n",
       "6                                 0                             0   \n",
       "7                                 0                             0   \n",
       "8                                 1                             0   \n",
       "9                                 1                             0   \n",
       "...                             ...                           ...   \n",
       "14894                             0                             0   \n",
       "14899                             0                             0   \n",
       "14900                             0                             0   \n",
       "14904                             1                             0   \n",
       "14908                             0                             1   \n",
       "\n",
       "       ENVInterval_WOLFCAMP B LOWER  ENVInterval_WOLFCAMP B UPPER  \\\n",
       "1                                 0                             0   \n",
       "6                                 1                             0   \n",
       "7                                 0                             1   \n",
       "8                                 0                             0   \n",
       "9                                 0                             0   \n",
       "...                             ...                           ...   \n",
       "14894                             1                             0   \n",
       "14899                             0                             0   \n",
       "14900                             0                             0   \n",
       "14904                             0                             0   \n",
       "14908                             0                             0   \n",
       "\n",
       "       ENVInterval_WOLFCAMP C  ENVInterval_WOLFCAMP XY  \n",
       "1                           0                        0  \n",
       "6                           0                        0  \n",
       "7                           0                        0  \n",
       "8                           0                        0  \n",
       "9                           0                        0  \n",
       "...                       ...                      ...  \n",
       "14894                       0                        0  \n",
       "14899                       0                        0  \n",
       "14900                       0                        0  \n",
       "14904                       0                        0  \n",
       "14908                       0                        0  \n",
       "\n",
       "[7209 rows x 17 columns]"
      ]
     },
     "execution_count": 109,
     "metadata": {},
     "output_type": "execute_result"
    }
   ],
   "source": [
    "X"
   ]
  },
  {
   "cell_type": "markdown",
   "id": "ae6cde46",
   "metadata": {},
   "source": [
    "## 6. Applying the Machine Learning models:\n",
    "This is a regression problem, in supervised learning. Here we have used the following regression models:\n",
    "\n",
    "* Multiple Linear Regression\n",
    "* Random Forest\n",
    "\n",
    "Evaluating the performance of a model by training and testing on the same dataset can lead to the overfitting. Hence the model evaluation is based on splitting the dataset into train and validation set. But the performance of the prediction result depends upon the random choice of the pair of (train,validation) set. Inorder to overcome that, the Cross-Validation procedure is used where under the k-fold CV approach, the training set is split into k smaller sets, where a model is trained using k-1 of the folds as training data and the model is validated on the remaining part."
   ]
  },
  {
   "cell_type": "markdown",
   "id": "3065a2ae",
   "metadata": {},
   "source": [
    "# Create Train Test Split"
   ]
  },
  {
   "cell_type": "code",
   "execution_count": 110,
   "id": "e5dea30a",
   "metadata": {},
   "outputs": [],
   "source": [
    "# Import relevant libraries and packages.\n",
    "import numpy as np \n",
    "import pandas as pd \n",
    "import matplotlib.pyplot as plt \n",
    "import seaborn as sns # For all our visualization needs.\n",
    "import statsmodels.api as sm # statsmodels is a Python module that provides classes and functions for the estimation of many different statistical models, as well as for conducting statistical tests, and statistical data exploration.\n",
    "from statsmodels.graphics.api import abline_plot # Plots a line given an intercept and slope\n",
    "from sklearn.metrics import mean_squared_error, r2_score # Calculates MSE and R2 for a model compared to data.\n",
    "from sklearn.model_selection import train_test_split #  Split arrays or matrices into random train and test subsets.\n",
    "from sklearn import linear_model, preprocessing # It's a package the contains many different linear regression models.\n",
    "\n",
    "# Splitting the dataset into training and test set:\n",
    "X_train, X_test, y_train, y_test = train_test_split(X, y, test_size=0.3, random_state=42)"
   ]
  },
  {
   "cell_type": "markdown",
   "id": "49a6a8dc",
   "metadata": {},
   "source": [
    "# Linear Regression"
   ]
  },
  {
   "cell_type": "code",
   "execution_count": 111,
   "id": "86bdc592",
   "metadata": {},
   "outputs": [
    {
     "name": "stdout",
     "output_type": "stream",
     "text": [
      "0.3258390401391028\n"
     ]
    }
   ],
   "source": [
    "\n",
    "# Import LinearRegression\n",
    "from sklearn.linear_model import LinearRegression\n",
    "\n",
    "# Create the regressor: reg\n",
    "rModel = LinearRegression()\n",
    "\n",
    "# We now want to train the model on our test data.\n",
    "rModel.fit(X_train, y_train)\n",
    "\n",
    "# Evaluate the model  \n",
    "print(rModel.score(X_train, y_train))"
   ]
  },
  {
   "cell_type": "code",
   "execution_count": 112,
   "id": "25cd82d1",
   "metadata": {
    "scrolled": true
   },
   "outputs": [
    {
     "data": {
      "image/png": "[encoded data removed]",
      "text/plain": [
       "<Figure size 432x288 with 1 Axes>"
      ]
     },
     "metadata": {
      "needs_background": "light"
     },
     "output_type": "display_data"
    }
   ],
   "source": [
    "# Use the model to make predictions about our test data\n",
    "rModel_y_pred = rModel.predict(X_test)\n",
    "\n",
    "# Let's plot the predictions against the actual result. Use scatter()\n",
    "_ = sns.scatterplot(x=y_test, y=rModel_y_pred.reshape(-1), s=7)\n",
    "plt.show()"
   ]
  },
  {
   "cell_type": "markdown",
   "id": "a9543e97",
   "metadata": {},
   "source": [
    "# OLS MLR"
   ]
  },
  {
   "cell_type": "code",
   "execution_count": 113,
   "id": "e137fa56",
   "metadata": {},
   "outputs": [],
   "source": [
    "# Import relevant libraries and packages.\n",
    "import numpy as np \n",
    "import pandas as pd \n",
    "import matplotlib.pyplot as plt \n",
    "import seaborn as sns # For all our visualization needs.\n",
    "import statsmodels.api as sm # statsmodels is a Python module that provides classes and functions for the estimation of many different statistical models, as well as for conducting statistical tests, and statistical data exploration.\n",
    "from statsmodels.graphics.api import abline_plot # Plots a line given an intercept and slope\n",
    "from sklearn.metrics import mean_squared_error, r2_score # Calculates MSE and R2 for a model compared to data.\n",
    "from sklearn.model_selection import train_test_split #  Split arrays or matrices into random train and test subsets.\n",
    "from sklearn import linear_model, preprocessing # It's a package the contains many different linear regression models."
   ]
  },
  {
   "cell_type": "code",
   "execution_count": 114,
   "id": "63fb6e3b",
   "metadata": {},
   "outputs": [
    {
     "data": {
      "text/html": [
       "<table class=\"simpletable\">\n",
       "<caption>OLS Regression Results</caption>\n",
       "<tr>\n",
       "  <th>Dep. Variable:</th>    <td>First12MonthOil_BBL</td> <th>  R-squared (uncentered):</th>      <td>   0.870</td> \n",
       "</tr>\n",
       "<tr>\n",
       "  <th>Model:</th>                    <td>OLS</td>         <th>  Adj. R-squared (uncentered):</th> <td>   0.870</td> \n",
       "</tr>\n",
       "<tr>\n",
       "  <th>Method:</th>              <td>Least Squares</td>    <th>  F-statistic:       </th>          <td>   1983.</td> \n",
       "</tr>\n",
       "<tr>\n",
       "  <th>Date:</th>              <td>Sun, 15 May 2022</td>   <th>  Prob (F-statistic):</th>           <td>  0.00</td>  \n",
       "</tr>\n",
       "<tr>\n",
       "  <th>Time:</th>                  <td>07:59:21</td>       <th>  Log-Likelihood:    </th>          <td> -63516.</td> \n",
       "</tr>\n",
       "<tr>\n",
       "  <th>No. Observations:</th>       <td>  5046</td>        <th>  AIC:               </th>          <td>1.271e+05</td>\n",
       "</tr>\n",
       "<tr>\n",
       "  <th>Df Residuals:</th>           <td>  5029</td>        <th>  BIC:               </th>          <td>1.272e+05</td>\n",
       "</tr>\n",
       "<tr>\n",
       "  <th>Df Model:</th>               <td>    17</td>        <th>                     </th>              <td> </td>    \n",
       "</tr>\n",
       "<tr>\n",
       "  <th>Covariance Type:</th>       <td>nonrobust</td>      <th>                     </th>              <td> </td>    \n",
       "</tr>\n",
       "</table>\n",
       "<table class=\"simpletable\">\n",
       "<tr>\n",
       "                   <td></td>                      <th>coef</th>     <th>std err</th>      <th>t</th>      <th>P>|t|</th>  <th>[0.025</th>    <th>0.975]</th>  \n",
       "</tr>\n",
       "<tr>\n",
       "  <th>TVD_FT</th>                              <td>    8.0905</td> <td>    0.632</td> <td>   12.811</td> <td> 0.000</td> <td>    6.852</td> <td>    9.329</td>\n",
       "</tr>\n",
       "<tr>\n",
       "  <th>LateralLength_FT</th>                    <td>   15.8797</td> <td>    0.432</td> <td>   36.785</td> <td> 0.000</td> <td>   15.033</td> <td>   16.726</td>\n",
       "</tr>\n",
       "<tr>\n",
       "  <th>ProppantIntensity_LBSPerFT</th>          <td>    8.5787</td> <td>    2.427</td> <td>    3.534</td> <td> 0.000</td> <td>    3.820</td> <td>   13.337</td>\n",
       "</tr>\n",
       "<tr>\n",
       "  <th>FluidIntensity_BBLPerFT</th>             <td>  129.5490</td> <td>   83.699</td> <td>    1.548</td> <td> 0.122</td> <td>  -34.537</td> <td>  293.635</td>\n",
       "</tr>\n",
       "<tr>\n",
       "  <th>Closest3DDistAtDrillTimeAnyZone_FT</th>  <td>    2.7406</td> <td>    1.625</td> <td>    1.686</td> <td> 0.092</td> <td>   -0.445</td> <td>    5.927</td>\n",
       "</tr>\n",
       "<tr>\n",
       "  <th>Closest3DDistAtDrillTimeSameZone_FT</th> <td>   -6.8385</td> <td>    1.444</td> <td>   -4.735</td> <td> 0.000</td> <td>   -9.670</td> <td>   -4.007</td>\n",
       "</tr>\n",
       "<tr>\n",
       "  <th>ENVInterval_2ND BONE SPRING</th>         <td>-6.555e+04</td> <td> 1.17e+04</td> <td>   -5.608</td> <td> 0.000</td> <td>-8.85e+04</td> <td>-4.26e+04</td>\n",
       "</tr>\n",
       "<tr>\n",
       "  <th>ENVInterval_2ND BONE SPRING SAND</th>    <td>-4778.6440</td> <td> 6842.793</td> <td>   -0.698</td> <td> 0.485</td> <td>-1.82e+04</td> <td> 8636.211</td>\n",
       "</tr>\n",
       "<tr>\n",
       "  <th>ENVInterval_3RD BONE SPRING</th>         <td>-5.121e+04</td> <td> 8403.746</td> <td>   -6.094</td> <td> 0.000</td> <td>-6.77e+04</td> <td>-3.47e+04</td>\n",
       "</tr>\n",
       "<tr>\n",
       "  <th>ENVInterval_3RD BONE SPRING SAND</th>    <td>-3.555e+04</td> <td> 7769.369</td> <td>   -4.576</td> <td> 0.000</td> <td>-5.08e+04</td> <td>-2.03e+04</td>\n",
       "</tr>\n",
       "<tr>\n",
       "  <th>ENVInterval_ABOVE UPPER AVALON</th>      <td>-8.203e+04</td> <td> 2.74e+04</td> <td>   -2.997</td> <td> 0.003</td> <td>-1.36e+05</td> <td>-2.84e+04</td>\n",
       "</tr>\n",
       "<tr>\n",
       "  <th>ENVInterval_WOLFCAMP A LOWER</th>        <td>-6.518e+04</td> <td> 7064.885</td> <td>   -9.226</td> <td> 0.000</td> <td> -7.9e+04</td> <td>-5.13e+04</td>\n",
       "</tr>\n",
       "<tr>\n",
       "  <th>ENVInterval_WOLFCAMP A UPPER</th>        <td>-4.515e+04</td> <td> 7075.911</td> <td>   -6.381</td> <td> 0.000</td> <td> -5.9e+04</td> <td>-3.13e+04</td>\n",
       "</tr>\n",
       "<tr>\n",
       "  <th>ENVInterval_WOLFCAMP B LOWER</th>        <td> -9.88e+04</td> <td> 8796.192</td> <td>  -11.232</td> <td> 0.000</td> <td>-1.16e+05</td> <td>-8.16e+04</td>\n",
       "</tr>\n",
       "<tr>\n",
       "  <th>ENVInterval_WOLFCAMP B UPPER</th>        <td>-8.683e+04</td> <td> 7823.179</td> <td>  -11.099</td> <td> 0.000</td> <td>-1.02e+05</td> <td>-7.15e+04</td>\n",
       "</tr>\n",
       "<tr>\n",
       "  <th>ENVInterval_WOLFCAMP C</th>              <td>-1.163e+05</td> <td> 8528.086</td> <td>  -13.641</td> <td> 0.000</td> <td>-1.33e+05</td> <td>-9.96e+04</td>\n",
       "</tr>\n",
       "<tr>\n",
       "  <th>ENVInterval_WOLFCAMP XY</th>             <td>-2.633e+04</td> <td> 7519.928</td> <td>   -3.501</td> <td> 0.000</td> <td>-4.11e+04</td> <td>-1.16e+04</td>\n",
       "</tr>\n",
       "</table>\n",
       "<table class=\"simpletable\">\n",
       "<tr>\n",
       "  <th>Omnibus:</th>       <td>769.308</td> <th>  Durbin-Watson:     </th> <td>   2.014</td>\n",
       "</tr>\n",
       "<tr>\n",
       "  <th>Prob(Omnibus):</th> <td> 0.000</td>  <th>  Jarque-Bera (JB):  </th> <td>1896.419</td>\n",
       "</tr>\n",
       "<tr>\n",
       "  <th>Skew:</th>          <td> 0.858</td>  <th>  Prob(JB):          </th> <td>    0.00</td>\n",
       "</tr>\n",
       "<tr>\n",
       "  <th>Kurtosis:</th>      <td> 5.465</td>  <th>  Cond. No.          </th> <td>3.86e+05</td>\n",
       "</tr>\n",
       "</table><br/><br/>Notes:<br/>[1] R² is computed without centering (uncentered) since the model does not contain a constant.<br/>[2] Standard Errors assume that the covariance matrix of the errors is correctly specified.<br/>[3] The condition number is large, 3.86e+05. This might indicate that there are<br/>strong multicollinearity or other numerical problems."
      ],
      "text/plain": [
       "<class 'statsmodels.iolib.summary.Summary'>\n",
       "\"\"\"\n",
       "                                 OLS Regression Results                                 \n",
       "========================================================================================\n",
       "Dep. Variable:     First12MonthOil_BBL   R-squared (uncentered):                   0.870\n",
       "Model:                             OLS   Adj. R-squared (uncentered):              0.870\n",
       "Method:                  Least Squares   F-statistic:                              1983.\n",
       "Date:                 Sun, 15 May 2022   Prob (F-statistic):                        0.00\n",
       "Time:                         07:59:21   Log-Likelihood:                         -63516.\n",
       "No. Observations:                 5046   AIC:                                  1.271e+05\n",
       "Df Residuals:                     5029   BIC:                                  1.272e+05\n",
       "Df Model:                           17                                                  \n",
       "Covariance Type:             nonrobust                                                  \n",
       "=======================================================================================================\n",
       "                                          coef    std err          t      P>|t|      [0.025      0.975]\n",
       "-------------------------------------------------------------------------------------------------------\n",
       "TVD_FT                                  8.0905      0.632     12.811      0.000       6.852       9.329\n",
       "LateralLength_FT                       15.8797      0.432     36.785      0.000      15.033      16.726\n",
       "ProppantIntensity_LBSPerFT              8.5787      2.427      3.534      0.000       3.820      13.337\n",
       "FluidIntensity_BBLPerFT               129.5490     83.699      1.548      0.122     -34.537     293.635\n",
       "Closest3DDistAtDrillTimeAnyZone_FT      2.7406      1.625      1.686      0.092      -0.445       5.927\n",
       "Closest3DDistAtDrillTimeSameZone_FT    -6.8385      1.444     -4.735      0.000      -9.670      -4.007\n",
       "ENVInterval_2ND BONE SPRING         -6.555e+04   1.17e+04     -5.608      0.000   -8.85e+04   -4.26e+04\n",
       "ENVInterval_2ND BONE SPRING SAND    -4778.6440   6842.793     -0.698      0.485   -1.82e+04    8636.211\n",
       "ENVInterval_3RD BONE SPRING         -5.121e+04   8403.746     -6.094      0.000   -6.77e+04   -3.47e+04\n",
       "ENVInterval_3RD BONE SPRING SAND    -3.555e+04   7769.369     -4.576      0.000   -5.08e+04   -2.03e+04\n",
       "ENVInterval_ABOVE UPPER AVALON      -8.203e+04   2.74e+04     -2.997      0.003   -1.36e+05   -2.84e+04\n",
       "ENVInterval_WOLFCAMP A LOWER        -6.518e+04   7064.885     -9.226      0.000    -7.9e+04   -5.13e+04\n",
       "ENVInterval_WOLFCAMP A UPPER        -4.515e+04   7075.911     -6.381      0.000    -5.9e+04   -3.13e+04\n",
       "ENVInterval_WOLFCAMP B LOWER         -9.88e+04   8796.192    -11.232      0.000   -1.16e+05   -8.16e+04\n",
       "ENVInterval_WOLFCAMP B UPPER        -8.683e+04   7823.179    -11.099      0.000   -1.02e+05   -7.15e+04\n",
       "ENVInterval_WOLFCAMP C              -1.163e+05   8528.086    -13.641      0.000   -1.33e+05   -9.96e+04\n",
       "ENVInterval_WOLFCAMP XY             -2.633e+04   7519.928     -3.501      0.000   -4.11e+04   -1.16e+04\n",
       "==============================================================================\n",
       "Omnibus:                      769.308   Durbin-Watson:                   2.014\n",
       "Prob(Omnibus):                  0.000   Jarque-Bera (JB):             1896.419\n",
       "Skew:                           0.858   Prob(JB):                         0.00\n",
       "Kurtosis:                       5.465   Cond. No.                     3.86e+05\n",
       "==============================================================================\n",
       "\n",
       "Notes:\n",
       "[1] R² is computed without centering (uncentered) since the model does not contain a constant.\n",
       "[2] Standard Errors assume that the covariance matrix of the errors is correctly specified.\n",
       "[3] The condition number is large, 3.86e+05. This might indicate that there are\n",
       "strong multicollinearity or other numerical problems.\n",
       "\"\"\""
      ]
     },
     "execution_count": 114,
     "metadata": {},
     "output_type": "execute_result"
    }
   ],
   "source": [
    "# We can use almost identical code to create the third model, because it is the same algorithm, just different inputs\n",
    "# Create the model\n",
    "MLR = sm.OLS(y_train, X_train)\n",
    "\n",
    "# Fit the model with fit() \n",
    "MLR_results = MLR.fit()\n",
    "\n",
    "# Evaluate the model\n",
    "MLR_results.summary()"
   ]
  },
  {
   "cell_type": "code",
   "execution_count": 115,
   "id": "d2d3018f",
   "metadata": {},
   "outputs": [],
   "source": [
    "# Use our new model to make predictions\n",
    "y_pred = MLR_results.predict(X_test)"
   ]
  },
  {
   "cell_type": "code",
   "execution_count": 116,
   "id": "07102fb0",
   "metadata": {},
   "outputs": [
    {
     "name": "stdout",
     "output_type": "stream",
     "text": [
      "Mean Absolute Error: 53795.46365775891\n",
      "Mean Squared Error: 5126401533.747352\n",
      "Root Mean Squared Error: 71598.89338353877\n"
     ]
    }
   ],
   "source": [
    "from sklearn import metrics\n",
    "print('Mean Absolute Error:', metrics.mean_absolute_error(y_test, y_pred))\n",
    "print('Mean Squared Error:', metrics.mean_squared_error(y_test, y_pred))\n",
    "print('Root Mean Squared Error:', np.sqrt(metrics.mean_squared_error(y_test, y_pred)))"
   ]
  },
  {
   "cell_type": "code",
   "execution_count": 117,
   "id": "d6932718",
   "metadata": {
    "scrolled": true
   },
   "outputs": [
    {
     "data": {
      "text/plain": [
       "Text(0, 0.5, 'Predictions for 12 Month Cum Oil')"
      ]
     },
     "execution_count": 117,
     "metadata": {},
     "output_type": "execute_result"
    },
    {
     "data": {
      "image/png": "[encoded data removed]",
      "text/plain": [
       "<Figure size 432x288 with 1 Axes>"
      ]
     },
     "metadata": {
      "needs_background": "light"
     },
     "output_type": "display_data"
    }
   ],
   "source": [
    "# Plot the predictions\n",
    "# Build a scatterplot\n",
    "plt.plot(y_test, y_pred, marker='.', linestyle='none')\n",
    "\n",
    "# Add a line for perfect correlation. Can you see what this line is doing? Use plot()\n",
    "plt.plot([x for x in range(0,500000)],[x for x in range(0,500000)], color='red')\n",
    "\n",
    "# Label it nicely\n",
    "plt.title(\"Multi Linear Regression predictions vs. the actual values\")\n",
    "plt.xlabel('Actual 12 Month Cum Oil')\n",
    "plt.ylabel('Predictions for 12 Month Cum Oil')"
   ]
  },
  {
   "cell_type": "markdown",
   "id": "d8b22c0b",
   "metadata": {},
   "source": [
    "# Ridge Regression"
   ]
  },
  {
   "cell_type": "code",
   "execution_count": 118,
   "id": "4c0ec002",
   "metadata": {},
   "outputs": [
    {
     "name": "stdout",
     "output_type": "stream",
     "text": [
      "[0.28026219 0.27053886 0.28853909 0.27936082 0.28511346]\n"
     ]
    }
   ],
   "source": [
    "#Import ML models:\n",
    "\n",
    "from sklearn.model_selection import train_test_split\n",
    "from sklearn.linear_model import Ridge\n",
    "from sklearn.model_selection import cross_val_score\n",
    "\n",
    "# Splitting the dataset into training and test set:\n",
    "X_train, X_test, y_train, y_test = train_test_split(X, y, test_size=0.3, random_state=42)\n",
    "\n",
    "# Instantiate a ridge regressor: ridge\n",
    "ridge = Ridge(alpha=0.5, normalize=True).fit(X_train, y_train)\n",
    "\n",
    "# Perform 5-fold cross-validation: ridge_cv\n",
    "ridge_cv = cross_val_score(ridge, X, y, cv=5)\n",
    "\n",
    "# Print the cross-validated scores\n",
    "print(ridge_cv)"
   ]
  },
  {
   "cell_type": "markdown",
   "id": "338d6bcf",
   "metadata": {},
   "source": [
    "# Random Forest Regression"
   ]
  },
  {
   "cell_type": "code",
   "execution_count": 119,
   "id": "0ba3d212",
   "metadata": {},
   "outputs": [],
   "source": [
    "from sklearn.ensemble import RandomForestRegressor\n",
    "from sklearn.datasets import make_classification"
   ]
  },
  {
   "cell_type": "code",
   "execution_count": 120,
   "id": "5869f519",
   "metadata": {},
   "outputs": [
    {
     "name": "stdout",
     "output_type": "stream",
     "text": [
      "R-squared: 0.9235882560884001\n"
     ]
    }
   ],
   "source": [
    "# Plug in appropriate max_depth and random_state parameters \n",
    "rfr = RandomForestRegressor()\n",
    "\n",
    "# Model and fit\n",
    "rfr.fit(X_train, y_train)\n",
    "\n",
    "score = rfr.score(X_train, y_train)\n",
    "print(\"R-squared:\", score) "
   ]
  },
  {
   "cell_type": "code",
   "execution_count": 121,
   "id": "b1c26eff",
   "metadata": {},
   "outputs": [
    {
     "name": "stdout",
     "output_type": "stream",
     "text": [
      "MSE:  4172550419.596842\n",
      "RMSE:  2086275209.798421\n"
     ]
    }
   ],
   "source": [
    "# make a prediction\n",
    "ypred = rfr.predict(X_test)\n",
    "\n",
    "mse = mean_squared_error(y_test, ypred)\n",
    "print(\"MSE: \", mse)\n",
    "print(\"RMSE: \", mse*(1/2.0)) "
   ]
  },
  {
   "cell_type": "code",
   "execution_count": 122,
   "id": "77b64e8e",
   "metadata": {},
   "outputs": [
    {
     "data": {
      "text/plain": [
       "Text(0, 0.5, 'Predictions for 12 Month Cum Oil')"
      ]
     },
     "execution_count": 122,
     "metadata": {},
     "output_type": "execute_result"
    },
    {
     "data": {
      "image/png": "[encoded data removed]",
      "text/plain": [
       "<Figure size 432x288 with 1 Axes>"
      ]
     },
     "metadata": {
      "needs_background": "light"
     },
     "output_type": "display_data"
    }
   ],
   "source": [
    "# Plot the predictions\n",
    "# Build a scatterplot\n",
    "plt.plot(y_test, ypred, marker='.', linestyle='none')\n",
    "\n",
    "# Add a line for perfect correlation. Can you see what this line is doing? Use plot()\n",
    "plt.plot([x for x in range(0,500000)],[x for x in range(0,500000)], color='red')\n",
    "\n",
    "# Label it nicely\n",
    "plt.title(\"Random Forest predictions vs. the actual values\")\n",
    "plt.xlabel('Actual 12 Month Cum Oil')\n",
    "plt.ylabel('Predictions for 12 Month Cum Oil')"
   ]
  },
  {
   "cell_type": "code",
   "execution_count": 123,
   "id": "cb7f7e7c",
   "metadata": {},
   "outputs": [
    {
     "name": "stdout",
     "output_type": "stream",
     "text": [
      "Mean Absolute Error: 47823.528745001386\n",
      "Mean Squared Error: 4172550419.596842\n",
      "Root Mean Squared Error: 64595.28171311618\n"
     ]
    }
   ],
   "source": [
    "from sklearn import metrics\n",
    "print('Mean Absolute Error:', metrics.mean_absolute_error(y_test, ypred))\n",
    "print('Mean Squared Error:', metrics.mean_squared_error(y_test, ypred))\n",
    "print('Root Mean Squared Error:', np.sqrt(metrics.mean_squared_error(y_test, ypred)))"
   ]
  },
  {
   "cell_type": "code",
   "execution_count": 124,
   "id": "75132fa8",
   "metadata": {},
   "outputs": [
    {
     "name": "stdout",
     "output_type": "stream",
     "text": [
      "R-squared: 0.43274677790624294\n"
     ]
    }
   ],
   "source": [
    "score = rfr.score(X_test, y_test)\n",
    "print(\"R-squared:\", score) "
   ]
  },
  {
   "cell_type": "markdown",
   "id": "3b138c5b",
   "metadata": {},
   "source": [
    "# Decision Tree"
   ]
  },
  {
   "cell_type": "code",
   "execution_count": 126,
   "id": "d25cda59",
   "metadata": {},
   "outputs": [],
   "source": [
    "import pandas as pd\n",
    "import numpy as np\n",
    "from sklearn import tree, metrics\n",
    "from sklearn.tree import DecisionTreeRegressor \n",
    "from sklearn.model_selection import train_test_split\n",
    "import seaborn as sns\n",
    "import matplotlib.pyplot as plt\n",
    "from io import StringIO  \n",
    "from IPython.display import Image "
   ]
  },
  {
   "cell_type": "code",
   "execution_count": 134,
   "id": "e3aec3ba",
   "metadata": {},
   "outputs": [
    {
     "name": "stdout",
     "output_type": "stream",
     "text": [
      "R-squared: 0.9235882560884001\n"
     ]
    }
   ],
   "source": [
    "# Declare a variable called entr_model and use tree.DecisionTreeClassifier. \n",
    "tree_model = tree.DecisionTreeRegressor(random_state=1234)\n",
    "\n",
    "# Call fit() on entr_model\n",
    "tree_model.fit(X_train, y_train)\n",
    "\n",
    "# Call predict() on entr_model with X_test passed to it, and assign the result to a variable y_pred \n",
    "y_pred = tree_model.predict(X_test) \n",
    "\n",
    "# Call Series on our y_pred variable with the following: pd.Series(y_pred)\n",
    "y_pred = pd.Series(y_pred)\n",
    "\n",
    "# Check out entr_model\n",
    "tree_model\n",
    "\n",
    "score = rfr.score(X_train, y_train)\n",
    "print(\"R-squared:\", score) "
   ]
  },
  {
   "cell_type": "code",
   "execution_count": 131,
   "id": "229b7f35",
   "metadata": {},
   "outputs": [
    {
     "name": "stdout",
     "output_type": "stream",
     "text": [
      "MSE:  7904036358.624646\n",
      "RMSE:  3952018179.312323\n"
     ]
    }
   ],
   "source": [
    "# make a prediction\n",
    "ypred = tree_model.predict(X_test)\n",
    "\n",
    "mse = mean_squared_error(y_test, ypred)\n",
    "print(\"MSE: \", mse)\n",
    "print(\"RMSE: \", mse*(1/2.0)) "
   ]
  },
  {
   "cell_type": "code",
   "execution_count": 132,
   "id": "83e09216",
   "metadata": {},
   "outputs": [
    {
     "data": {
      "text/plain": [
       "Text(0, 0.5, 'Predictions for 12 Month Cum Oil')"
      ]
     },
     "execution_count": 132,
     "metadata": {},
     "output_type": "execute_result"
    },
    {
     "data": {
      "image/png": "[encoded data removed]",
      "text/plain": [
       "<Figure size 432x288 with 1 Axes>"
      ]
     },
     "metadata": {
      "needs_background": "light"
     },
     "output_type": "display_data"
    }
   ],
   "source": [
    "# Plot the predictions\n",
    "# Build a scatterplot\n",
    "plt.plot(y_test, ypred, marker='.', linestyle='none')\n",
    "\n",
    "# Add a line for perfect correlation. Can you see what this line is doing? Use plot()\n",
    "plt.plot([x for x in range(0,500000)],[x for x in range(0,500000)], color='red')\n",
    "\n",
    "# Label it nicely\n",
    "plt.title(\"Decision Tree predictions vs. the actual values\")\n",
    "plt.xlabel('Actual 12 Month Cum Oil')\n",
    "plt.ylabel('Predictions for 12 Month Cum Oil')"
   ]
  },
  {
   "cell_type": "code",
   "execution_count": 133,
   "id": "db79269c",
   "metadata": {},
   "outputs": [
    {
     "name": "stdout",
     "output_type": "stream",
     "text": [
      "R-squared: 0.43274677790624294\n"
     ]
    }
   ],
   "source": [
    "score = rfr.score(X_test, y_test)\n",
    "print(\"R-squared:\", score) "
   ]
  },
  {
   "cell_type": "markdown",
   "id": "3f8973f1",
   "metadata": {},
   "source": [
    "# Takeaways\n",
    "So far none of the models have done a good job of predicting 12 month cum oil.  All models seem to overfit but I have reduced the number of features to make the model more simple.  I'm not sure how to proeed to make a better model."
   ]
  },
  {
   "cell_type": "code",
   "execution_count": null,
   "id": "b42783d2",
   "metadata": {},
   "outputs": [],
   "source": []
  }
 ],
 "metadata": {
  "kernelspec": {
   "display_name": "Python 3",
   "language": "python",
   "name": "python3"
  },
  "language_info": {
   "codemirror_mode": {
    "name": "ipython",
    "version": 3
   },
   "file_extension": ".py",
   "mimetype": "text/x-python",
   "name": "python",
   "nbconvert_exporter": "python",
   "pygments_lexer": "ipython3",
   "version": "3.8.8"
  }
 },
 "nbformat": 4,
 "nbformat_minor": 5
}
